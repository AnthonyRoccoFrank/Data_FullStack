{
 "cells": [
  {
   "cell_type": "code",
   "execution_count": 1,
   "metadata": {},
   "outputs": [],
   "source": [
    "# Import relevant libraries\n",
    "import pandas as pd"
   ]
  },
  {
   "attachments": {},
   "cell_type": "markdown",
   "metadata": {},
   "source": [
    "Flu Case Extract"
   ]
  },
  {
   "cell_type": "code",
   "execution_count": 2,
   "metadata": {},
   "outputs": [],
   "source": [
    "for k in range(11):\n",
    "    try:\n",
    "        if k < 7:\n",
    "            url = \"https://www.cdc.gov/flu/about/burden/201\" + str(k+1) + \"-201\" + str(k+2) + \".html\"\n",
    "            tables = pd.read_html(url)\n",
    "            flu = tables[0]\n",
    "            flu.to_csv(\"ExtractCSV/flucases/flu201\" + str(k) + \".csv\",index=False)\n",
    "        elif k == 7:\n",
    "            url = \"https://www.cdc.gov/flu/about/burden/2017-2018.htm\"\n",
    "            tables = pd.read_html(url)  \n",
    "            flu = tables[0] \n",
    "            flu.to_csv(\"ExtractCSV/flucases/flu2017.csv\",index=False)\n",
    "        elif k == 8:    \n",
    "            url = \"https://www.cdc.gov/flu/about/burden/2018-2019.html\"\n",
    "            tables = pd.read_html(url)\n",
    "            flu = tables[0]\n",
    "            flu.to_csv(\"ExtractCSV/flucases/flu2018.csv\",index=False)\n",
    "        elif k == 9:\n",
    "            url = \"https://www.cdc.gov/flu/about/burden/2019-2020.html\"\n",
    "            tables = pd.read_html(url)\n",
    "            flu = tables[0]\n",
    "            flu.to_csv(\"ExtractCSV/flucases/flu2019.csv\",index=False)\n",
    "        else:\n",
    "            url = \"https://www.cdc.gov/flu/about/burden/2021-2022.htm\"\n",
    "            tables = pd.read_html(url)\n",
    "            flu = tables[0]\n",
    "            flu.to_csv(\"ExtractCSV/flucases/flu2021.csv\",index=False)\n",
    "    except Exception as e:\n",
    "        print(f'An error occurred: {e} in {k}')"
   ]
  },
  {
   "attachments": {},
   "cell_type": "markdown",
   "metadata": {},
   "source": [
    "Vaccines Extract"
   ]
  },
  {
   "cell_type": "code",
   "execution_count": 3,
   "metadata": {},
   "outputs": [],
   "source": [
    "for i in range(10):\n",
    "    try:\n",
    "        if i <= 7:\n",
    "            url = \"https://www.cdc.gov/flu/prevent/vaccinesupply-201\" + str(i+1) + \".htm\"\n",
    "            # Create a Pandas DataFrame by using the list of rows and a list of the column names\n",
    "            tables = pd.read_html(url)\n",
    "            vaccines = tables[0]\n",
    "            # Confirm DataFrame was created successfully\n",
    "            vaccines.to_csv(\"ExtractCSV/vaccines/vaccines201\" + str(i+1) + \".csv\",index=False)\n",
    "        else:\n",
    "            url = \"https://www.cdc.gov/flu/prevent/vaccinesupply-202\" + str(i-8) + \".htm\"\n",
    "            # Create a Pandas DataFrame by using the list of rows and a list of the column names\n",
    "            tables = pd.read_html(url)\n",
    "            vaccines = tables[0]\n",
    "            # Confirm DataFrame was created successfully\n",
    "            vaccines.to_csv(\"ExtractCSV/vaccines/vaccines202\" + str(i-8) + \".csv\",index=False)\n",
    "    except Exception as e:\n",
    "        print(f'An error occurred: {e} in {i}')"
   ]
  }
 ],
 "metadata": {
  "kernelspec": {
   "display_name": "base",
   "language": "python",
   "name": "python3"
  },
  "language_info": {
   "codemirror_mode": {
    "name": "ipython",
    "version": 3
   },
   "file_extension": ".py",
   "mimetype": "text/x-python",
   "name": "python",
   "nbconvert_exporter": "python",
   "pygments_lexer": "ipython3",
   "version": "3.9.12 (main, Apr  4 2022, 05:22:27) [MSC v.1916 64 bit (AMD64)]"
  },
  "orig_nbformat": 4,
  "vscode": {
   "interpreter": {
    "hash": "88279d2366fe020547cde40dd65aa0e3aa662a6ec1f3ca12d88834876c85e1a6"
   }
  }
 },
 "nbformat": 4,
 "nbformat_minor": 2
}
