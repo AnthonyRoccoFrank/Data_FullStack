{
 "cells": [
  {
   "cell_type": "code",
   "execution_count": 1,
   "metadata": {},
   "outputs": [],
   "source": [
    "# Depencies needed\n",
    "import pymongo\n",
    "import pandas as pd\n",
    "from sqlalchemy import create_engine\n"
   ]
  },
  {
   "cell_type": "code",
   "execution_count": 2,
   "metadata": {},
   "outputs": [
    {
     "data": {
      "text/html": [
       "<div>\n",
       "<style scoped>\n",
       "    .dataframe tbody tr th:only-of-type {\n",
       "        vertical-align: middle;\n",
       "    }\n",
       "\n",
       "    .dataframe tbody tr th {\n",
       "        vertical-align: top;\n",
       "    }\n",
       "\n",
       "    .dataframe thead th {\n",
       "        text-align: right;\n",
       "    }\n",
       "</style>\n",
       "<table border=\"1\" class=\"dataframe\">\n",
       "  <thead>\n",
       "    <tr style=\"text-align: right;\">\n",
       "      <th></th>\n",
       "      <th>Unnamed: 0</th>\n",
       "      <th>Age group</th>\n",
       "      <th>Symptomatic Illnesses (Estimate)</th>\n",
       "      <th>Symptomatic Illnesses (95% Cr I)</th>\n",
       "      <th>Medical Visits (Estimate)</th>\n",
       "      <th>Medical Visits (95% Cr I)</th>\n",
       "      <th>Hospitalizations (Estimate)</th>\n",
       "      <th>Hospitalizations (95% Cr I)</th>\n",
       "      <th>Deaths (Estimate)</th>\n",
       "      <th>Deaths (95% Cr I)</th>\n",
       "      <th>Year</th>\n",
       "    </tr>\n",
       "  </thead>\n",
       "  <tbody>\n",
       "    <tr>\n",
       "      <th>0</th>\n",
       "      <td>1</td>\n",
       "      <td>0-4 yrs</td>\n",
       "      <td>2776311</td>\n",
       "      <td>(2,286,712, 3,521,500)</td>\n",
       "      <td>1860128</td>\n",
       "      <td>(1,497,299, 2,411,113)</td>\n",
       "      <td>19355</td>\n",
       "      <td>(15,942, 24,550)</td>\n",
       "      <td>200</td>\n",
       "      <td>(0, 509)</td>\n",
       "      <td>2011</td>\n",
       "    </tr>\n",
       "    <tr>\n",
       "      <th>1</th>\n",
       "      <td>2</td>\n",
       "      <td>5-17 yrs</td>\n",
       "      <td>4435345</td>\n",
       "      <td>(3,609,151, 5,847,156)</td>\n",
       "      <td>2306379</td>\n",
       "      <td>(1,847,898, 3,083,851)</td>\n",
       "      <td>12161</td>\n",
       "      <td>(9,896, 16,032)</td>\n",
       "      <td>152</td>\n",
       "      <td>(0, 1,498)</td>\n",
       "      <td>2011</td>\n",
       "    </tr>\n",
       "    <tr>\n",
       "      <th>2</th>\n",
       "      <td>3</td>\n",
       "      <td>18-49 yrs</td>\n",
       "      <td>7410066</td>\n",
       "      <td>(6,149,320, 9,526,927)</td>\n",
       "      <td>2741724</td>\n",
       "      <td>(2,203,691, 3,638,292)</td>\n",
       "      <td>41593</td>\n",
       "      <td>(34,516, 53,475)</td>\n",
       "      <td>5240</td>\n",
       "      <td>(3,682, 8,341)</td>\n",
       "      <td>2011</td>\n",
       "    </tr>\n",
       "    <tr>\n",
       "      <th>3</th>\n",
       "      <td>4</td>\n",
       "      <td>50-64 yrs</td>\n",
       "      <td>4843828</td>\n",
       "      <td>(4,031,400, 6,493,256)</td>\n",
       "      <td>2082846</td>\n",
       "      <td>(1,662,186, 2,869,122)</td>\n",
       "      <td>51367</td>\n",
       "      <td>(42,752, 68,859)</td>\n",
       "      <td>5937</td>\n",
       "      <td>(4,254, 9,385)</td>\n",
       "      <td>2011</td>\n",
       "    </tr>\n",
       "    <tr>\n",
       "      <th>4</th>\n",
       "      <td>5</td>\n",
       "      <td>65+ yrs</td>\n",
       "      <td>1820570</td>\n",
       "      <td>(1,591,020, 2,395,285)</td>\n",
       "      <td>1019519</td>\n",
       "      <td>(851,630, 1,383,748)</td>\n",
       "      <td>165506</td>\n",
       "      <td>(144,638, 217,753)</td>\n",
       "      <td>25128</td>\n",
       "      <td>(19,368, 42,189)</td>\n",
       "      <td>2011</td>\n",
       "    </tr>\n",
       "  </tbody>\n",
       "</table>\n",
       "</div>"
      ],
      "text/plain": [
       "   Unnamed: 0  Age group  Symptomatic Illnesses (Estimate)  \\\n",
       "0           1    0-4 yrs                           2776311   \n",
       "1           2   5-17 yrs                           4435345   \n",
       "2           3  18-49 yrs                           7410066   \n",
       "3           4  50-64 yrs                           4843828   \n",
       "4           5    65+ yrs                           1820570   \n",
       "\n",
       "  Symptomatic Illnesses (95% Cr I)  Medical Visits (Estimate)  \\\n",
       "0           (2,286,712, 3,521,500)                    1860128   \n",
       "1           (3,609,151, 5,847,156)                    2306379   \n",
       "2           (6,149,320, 9,526,927)                    2741724   \n",
       "3           (4,031,400, 6,493,256)                    2082846   \n",
       "4           (1,591,020, 2,395,285)                    1019519   \n",
       "\n",
       "  Medical Visits (95% Cr I)  Hospitalizations (Estimate)  \\\n",
       "0    (1,497,299, 2,411,113)                        19355   \n",
       "1    (1,847,898, 3,083,851)                        12161   \n",
       "2    (2,203,691, 3,638,292)                        41593   \n",
       "3    (1,662,186, 2,869,122)                        51367   \n",
       "4      (851,630, 1,383,748)                       165506   \n",
       "\n",
       "  Hospitalizations (95% Cr I) Deaths (Estimate) Deaths (95% Cr I)  Year  \n",
       "0            (15,942, 24,550)               200          (0, 509)  2011  \n",
       "1             (9,896, 16,032)               152        (0, 1,498)  2011  \n",
       "2            (34,516, 53,475)              5240    (3,682, 8,341)  2011  \n",
       "3            (42,752, 68,859)              5937    (4,254, 9,385)  2011  \n",
       "4          (144,638, 217,753)             25128  (19,368, 42,189)  2011  "
      ]
     },
     "execution_count": 2,
     "metadata": {},
     "output_type": "execute_result"
    }
   ],
   "source": [
    "flu_data = pd.read_csv(\"TransformCSV/flu_10to21.csv\")\n",
    "vaccine_data = pd.read_csv(\"TransformCSV/vaccines_11to21.csv\")\n",
    "flu_data.head()"
   ]
  },
  {
   "cell_type": "code",
   "execution_count": 3,
   "metadata": {},
   "outputs": [
    {
     "data": {
      "text/html": [
       "<div>\n",
       "<style scoped>\n",
       "    .dataframe tbody tr th:only-of-type {\n",
       "        vertical-align: middle;\n",
       "    }\n",
       "\n",
       "    .dataframe tbody tr th {\n",
       "        vertical-align: top;\n",
       "    }\n",
       "\n",
       "    .dataframe thead th {\n",
       "        text-align: right;\n",
       "    }\n",
       "</style>\n",
       "<table border=\"1\" class=\"dataframe\">\n",
       "  <thead>\n",
       "    <tr style=\"text-align: right;\">\n",
       "      <th></th>\n",
       "      <th>Unnamed: 0</th>\n",
       "      <th>Week</th>\n",
       "      <th>Total Doses Distributed</th>\n",
       "      <th>Year</th>\n",
       "      <th>Month</th>\n",
       "      <th>Day</th>\n",
       "    </tr>\n",
       "  </thead>\n",
       "  <tbody>\n",
       "    <tr>\n",
       "      <th>0</th>\n",
       "      <td>0</td>\n",
       "      <td>2011-08-26</td>\n",
       "      <td>55.1</td>\n",
       "      <td>2011</td>\n",
       "      <td>8</td>\n",
       "      <td>26</td>\n",
       "    </tr>\n",
       "    <tr>\n",
       "      <th>1</th>\n",
       "      <td>1</td>\n",
       "      <td>2011-09-02</td>\n",
       "      <td>67.9</td>\n",
       "      <td>2011</td>\n",
       "      <td>9</td>\n",
       "      <td>2</td>\n",
       "    </tr>\n",
       "    <tr>\n",
       "      <th>2</th>\n",
       "      <td>2</td>\n",
       "      <td>2011-09-09</td>\n",
       "      <td>85.9</td>\n",
       "      <td>2011</td>\n",
       "      <td>9</td>\n",
       "      <td>9</td>\n",
       "    </tr>\n",
       "    <tr>\n",
       "      <th>3</th>\n",
       "      <td>3</td>\n",
       "      <td>2011-09-16</td>\n",
       "      <td>97.7</td>\n",
       "      <td>2011</td>\n",
       "      <td>9</td>\n",
       "      <td>16</td>\n",
       "    </tr>\n",
       "    <tr>\n",
       "      <th>4</th>\n",
       "      <td>4</td>\n",
       "      <td>2011-09-23</td>\n",
       "      <td>104.8</td>\n",
       "      <td>2011</td>\n",
       "      <td>9</td>\n",
       "      <td>23</td>\n",
       "    </tr>\n",
       "  </tbody>\n",
       "</table>\n",
       "</div>"
      ],
      "text/plain": [
       "   Unnamed: 0        Week  Total Doses Distributed  Year  Month  Day\n",
       "0           0  2011-08-26                     55.1  2011      8   26\n",
       "1           1  2011-09-02                     67.9  2011      9    2\n",
       "2           2  2011-09-09                     85.9  2011      9    9\n",
       "3           3  2011-09-16                     97.7  2011      9   16\n",
       "4           4  2011-09-23                    104.8  2011      9   23"
      ]
     },
     "execution_count": 3,
     "metadata": {},
     "output_type": "execute_result"
    }
   ],
   "source": [
    "vaccine_data.head()"
   ]
  },
  {
   "cell_type": "code",
   "execution_count": 4,
   "metadata": {},
   "outputs": [],
   "source": [
    "conn = 'mongodb://localhost:27017'\n",
    "client = pymongo.MongoClient(conn)"
   ]
  },
  {
   "cell_type": "code",
   "execution_count": 5,
   "metadata": {},
   "outputs": [],
   "source": [
    "# Declare the database\n",
    "db = client.flu_vaccines_db"
   ]
  },
  {
   "cell_type": "code",
   "execution_count": 6,
   "metadata": {},
   "outputs": [],
   "source": [
    "# Declare the collections\n",
    "flu = db.flu\n",
    "vaccine = db.vaccine\n",
    "\n",
    "flu_dict = flu_data.to_dict(\"records\")\n",
    "vaccine_dict = vaccine_data.to_dict(\"records\")"
   ]
  },
  {
   "cell_type": "code",
   "execution_count": 7,
   "metadata": {},
   "outputs": [
    {
     "data": {
      "text/plain": [
       "<pymongo.results.InsertManyResult at 0x1dc3cfa0a30>"
      ]
     },
     "execution_count": 7,
     "metadata": {},
     "output_type": "execute_result"
    }
   ],
   "source": [
    "# Insert collection\n",
    "flu.insert_many(flu_dict)\n",
    "vaccine.insert_many(vaccine_dict)"
   ]
  },
  {
   "cell_type": "code",
   "execution_count": null,
   "metadata": {},
   "outputs": [],
   "source": []
  }
 ],
 "metadata": {
  "kernelspec": {
   "display_name": "base",
   "language": "python",
   "name": "python3"
  },
  "language_info": {
   "codemirror_mode": {
    "name": "ipython",
    "version": 3
   },
   "file_extension": ".py",
   "mimetype": "text/x-python",
   "name": "python",
   "nbconvert_exporter": "python",
   "pygments_lexer": "ipython3",
   "version": "3.9.12"
  },
  "orig_nbformat": 4,
  "vscode": {
   "interpreter": {
    "hash": "88279d2366fe020547cde40dd65aa0e3aa662a6ec1f3ca12d88834876c85e1a6"
   }
  }
 },
 "nbformat": 4,
 "nbformat_minor": 2
}
